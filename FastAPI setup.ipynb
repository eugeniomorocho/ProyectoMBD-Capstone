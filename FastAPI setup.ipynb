{
 "cells": [
  {
   "cell_type": "markdown",
   "id": "a38e3d25",
   "metadata": {},
   "source": [
    "# **Building our first web application with FastAPI**"
   ]
  },
  {
   "cell_type": "markdown",
   "id": "2b1836e7",
   "metadata": {},
   "source": [
    "## **1. Install FastAPI**"
   ]
  },
  {
   "cell_type": "code",
   "execution_count": null,
   "id": "a24193e8",
   "metadata": {},
   "outputs": [],
   "source": [
    "%pip install fastapi\n",
    "%pip install \"fastapi[standard]\""
   ]
  },
  {
   "cell_type": "markdown",
   "id": "d48ec860",
   "metadata": {},
   "source": [
    "## **2. Create your app in `main.py`**"
   ]
  },
  {
   "cell_type": "code",
   "execution_count": null,
   "id": "aac2585b",
   "metadata": {},
   "outputs": [],
   "source": [
    "from fastapi import FastAPI\n",
    "\n",
    "app = FastAPI()\n",
    "\n",
    "@app.get(\"/\")\n",
    "def read_root():\n",
    "    return {\"Hello\": \"World\"}"
   ]
  },
  {
   "cell_type": "markdown",
   "id": "b54865e7",
   "metadata": {},
   "source": [
    "## **3. Run the server in the terminal**"
   ]
  },
  {
   "cell_type": "code",
   "execution_count": null,
   "id": "f7c4e498",
   "metadata": {
    "vscode": {
     "languageId": "powershell"
    }
   },
   "outputs": [],
   "source": [
    "%fastapi dev main.py"
   ]
  },
  {
   "cell_type": "markdown",
   "id": "bc97ba0f",
   "metadata": {},
   "source": [
    "- Verify that the logs in the terminal show: `Application startup complete.`\n",
    "- To stop the live server, press `Control + C`"
   ]
  },
  {
   "cell_type": "markdown",
   "id": "23ebf113",
   "metadata": {},
   "source": [
    "## **4. Stop the server in the terminal**"
   ]
  },
  {
   "cell_type": "code",
   "execution_count": null,
   "id": "49a68c28",
   "metadata": {
    "vscode": {
     "languageId": "powershell"
    }
   },
   "outputs": [],
   "source": [
    "%ps aux | grep fastapi"
   ]
  },
  {
   "cell_type": "code",
   "execution_count": null,
   "id": "ee9a5e2f",
   "metadata": {
    "vscode": {
     "languageId": "powershell"
    }
   },
   "outputs": [],
   "source": [
    "%kill <PID> # Replace <PID> with the actual process ID of the FastAPI server"
   ]
  }
 ],
 "metadata": {
  "kernelspec": {
   "display_name": ".venv",
   "language": "python",
   "name": "python3"
  },
  "language_info": {
   "codemirror_mode": {
    "name": "ipython",
    "version": 3
   },
   "file_extension": ".py",
   "mimetype": "text/x-python",
   "name": "python",
   "nbconvert_exporter": "python",
   "pygments_lexer": "ipython3",
   "version": "3.11.3"
  }
 },
 "nbformat": 4,
 "nbformat_minor": 5
}
